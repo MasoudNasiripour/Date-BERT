{
 "cells": [
  {
   "cell_type": "markdown",
   "metadata": {},
   "source": [
    "### import packages"
   ]
  },
  {
   "cell_type": "code",
   "execution_count": 1,
   "metadata": {},
   "outputs": [
    {
     "name": "stderr",
     "output_type": "stream",
     "text": [
      "C:\\Users\\Masoud\\AppData\\Local\\anaconda3\\envs\\llm\\Lib\\site-packages\\tqdm\\auto.py:21: TqdmWarning: IProgress not found. Please update jupyter and ipywidgets. See https://ipywidgets.readthedocs.io/en/stable/user_install.html\n",
      "  from .autonotebook import tqdm as notebook_tqdm\n"
     ]
    }
   ],
   "source": [
    "import tqdm\n",
    "import random\n",
    "import pandas as pd\n",
    "\n",
    "import torch\n",
    "import torch.nn as nn\n",
    "import torch.nn.functional as F\n",
    "import torch.optim.lr_scheduler as lr_scheduler\n",
    "import matplotlib.pyplot as plt\n",
    "from torch.utils.data import Dataset, DataLoader\n",
    "from transformers import AutoTokenizer"
   ]
  },
  {
   "cell_type": "markdown",
   "metadata": {},
   "source": [
    "### Read Data"
   ]
  },
  {
   "cell_type": "code",
   "execution_count": 2,
   "metadata": {},
   "outputs": [
    {
     "data": {
      "text/plain": [
       "((81840, 1), (16368, 1))"
      ]
     },
     "execution_count": 2,
     "metadata": {},
     "output_type": "execute_result"
    }
   ],
   "source": [
    "Xtr = pd.read_excel(\"Xtr.xlsx\").iloc[:, 1:]\n",
    "Ytr = pd.read_excel(\"Ytr.xlsx\").iloc[:, 1:]\n",
    "Xts = pd.read_excel(\"Xts.xlsx\").iloc[:, 1:]\n",
    "Yts = pd.read_excel(\"Yts.xlsx\").iloc[:, 1:]\n",
    "Xtr.shape, Xts.shape"
   ]
  },
  {
   "cell_type": "markdown",
   "metadata": {},
   "source": [
    "### Design Models "
   ]
  },
  {
   "cell_type": "code",
   "execution_count": 64,
   "metadata": {},
   "outputs": [],
   "source": [
    "class Config:\n",
    "    EMB_DIM = 64\n",
    "    N_HEADS = 8\n",
    "    N_TRM_LAYERS = 6\n",
    "    N_TOKENS = 256\n",
    "    N_YEARS = 11\n",
    "    N_MONTH = 12\n",
    "    N_DAYS = 31\n",
    "    MASK_TOKEN = \"[MASK]\"\n",
    "    TOKENIZER_PATH = \"amirakhlaghiqqq/persian-llama2\"\n",
    "    MAX_LENGTH = 16\n",
    "    \n",
    "    days = [i for i in range(1, 32)]\n",
    "    month = [i for i in range(1, 13)]\n",
    "    years = [i for i in range(1400, 1411)]\n",
    "\n",
    "    year2ix = {year: ix for ix, year in enumerate(years)}\n",
    "    ix2year = {ix: year for ix, year in enumerate(years)}\n",
    "\n",
    "    month2ix = {month: ix for ix, month in enumerate(month)}\n",
    "    ix2month = {ix: month for ix, month in enumerate(month)}\n",
    "\n",
    "    day2ix = {day: ix for ix, day in enumerate(days)}\n",
    "    ix2day = {ix: day for ix, day in enumerate(days)}\n",
    "\n",
    "    DAYS_TOKEN =[\n",
    "    \"اول\", \"دوم\",\"سوم\", \"چهارم\", \"پنجم\",\"ششم\",\"هفتم\",\"هشتم\",\"نهم\",\"دهم\",\n",
    "    \"یازدهم\",\"دوازدهم\",\"سیزدهم\",\"چهاردهم\",\"پانزدهم\",\"شانزدهم\",\"هفدهم\",\"هجدهم\",\n",
    "    \"نوزدهم\",\"بیستم\",\"بیست و یکم\",\"بیست و دوم\",\"بیست و سوم\",\"بیست و چهارم\",\"بیست و پنجم\",\n",
    "    \"بیست و ششم\",\"بیست و هفتم\",\"بیست و هشتم\",\"بیست و نهم\",\"سی ام\"]\n",
    "\n",
    "\n",
    "class BERT(nn.Module):\n",
    "\n",
    "    def __init__(self, tokenizer):\n",
    "        super().__init__()\n",
    "        self.tokenizer = tokenizer\n",
    "        self.emb = nn.Embedding(len(self.tokenizer), Config.EMB_DIM)\n",
    "        self.trm_block = nn.TransformerEncoderLayer(Config.EMB_DIM,\n",
    "                                                    Config.N_HEADS,\n",
    "                                                    batch_first=True)\n",
    "        self.trm_enc = nn.TransformerEncoder(self.trm_block, Config.N_TRM_LAYERS,)\n",
    "\n",
    "    def forward(self, x):\n",
    "        mask = torch.isin(x, torch.tensor([0, ]))\n",
    "        input_embeds = self.emb(x)\n",
    "        output = self.trm_enc(input_embeds, src_key_padding_mask=mask)\n",
    "        return output\n",
    "\n",
    "\n",
    "class MaskedBert(nn.Module):\n",
    "\n",
    "    def __init__(self, tokenizer, bert):\n",
    "        super().__init__()\n",
    "        self.tokenizer = tokenizer\n",
    "        self.bert = bert\n",
    "        self.lmhead = nn.Linear(Config.EMB_DIM, len(self.tokenizer))\n",
    "\n",
    "    def forward(self, x):\n",
    "        return torch.log_softmax(self.lmhead(bert(x)), -1)\n",
    "\n",
    "\n",
    "class DateModel(nn.Module):\n",
    "    def __init__(self, bert: BERT):\n",
    "        super().__init__()\n",
    "        self.bert = bert\n",
    "\n",
    "        for p in self.bert.parameters():\n",
    "            p.requires_grad = True\n",
    "        \n",
    "        self.year_head = nn.Sequential(\n",
    "            nn.Linear(Config.EMB_DIM, Config.N_YEARS * 2),\n",
    "            nn.Linear(Config.N_YEARS * 2, Config.N_YEARS),\n",
    "        )\n",
    "\n",
    "        self.month_head = nn.Sequential(\n",
    "            nn.Linear(Config.EMB_DIM, Config.N_MONTH * 2),\n",
    "            nn.Linear(Config.N_MONTH * 2, Config.N_MONTH),\n",
    "        )\n",
    "\n",
    "        self.day_head = nn.Sequential(\n",
    "            nn.Linear(Config.EMB_DIM, Config.N_DAYS * 2),\n",
    "            nn.Linear(Config.N_DAYS * 2, Config.N_DAYS),\n",
    "        )\n",
    "    \n",
    "    def forward(self, x):\n",
    "        year, month, day = torch.unbind(self.bert(x)[:, 1:4, :], 1)\n",
    "        year_logits  = torch.log_softmax(self.year_head(year), -1)\n",
    "        month_logits = torch.log_softmax(self.month_head(month), -1)\n",
    "        day_logits   = torch.log_softmax(self.day_head(day), -1)\n",
    "        return year_logits, month_logits, day_logits\n",
    "\n",
    "    @torch.no_grad\n",
    "    def generate(self, date: str):\n",
    "        date = \"[Y][M][D]\" + date\n",
    "        input_ids = self.bert.tokenizer(date).input_ids\n",
    "        input_ids += [0 for _ in range(Config.MAX_LENGTH - len(input_ids))]\n",
    "        input_ids = torch.tensor(input_ids)\n",
    "        if len(input_ids.shape) < 2:\n",
    "            input_ids = input_ids.view(1, -1)\n",
    "        Ypr, Mpr, Dpr = self.forward(input_ids)\n",
    "        year = torch.argmax(Ypr, dim=-1)\n",
    "        month = torch.argmax(Mpr, dim=-1)\n",
    "        day = torch.argmax(Dpr, dim=-1)\n",
    "        return f\"{Config.ix2year.get(year.item())}-{Config.ix2month.get(month.item())}-{Config.ix2day.get(day.item())}\""
   ]
  },
  {
   "cell_type": "markdown",
   "metadata": {},
   "source": [
    "### Define two dataset: \n",
    "\n",
    "1. One for MLM(Masked Langauge Model)\n",
    "2. One for Heads"
   ]
  },
  {
   "cell_type": "code",
   "execution_count": 65,
   "metadata": {},
   "outputs": [],
   "source": [
    "class MaskedDataset(nn.Module):\n",
    "    def __init__(self, tokenizer, dstype=\"train\") -> None:\n",
    "        super().__init__()\n",
    "        self.tokenizer = tokenizer\n",
    "        self.dstype = dstype\n",
    "\n",
    "    def __getitem__(self, ix):\n",
    "        x = Xtr.iloc[ix].input_date\n",
    "        x = \"[Y][M][D]\" + x\n",
    "        masked_input, target = self.masker(x)\n",
    "        masked_input += [0 for _ in range(Config.MAX_LENGTH - len(masked_input))]\n",
    "        target += [0 for _ in range(Config.MAX_LENGTH - len(target))]\n",
    "        return torch.tensor(masked_input), torch.tensor(target)\n",
    "\n",
    "    def masker(self, x):\n",
    "        output = []\n",
    "        output_labels = []\n",
    "        \n",
    "        tokens = self.tokenizer.tokenize(x)\n",
    "        for ix, token in enumerate(tokens):\n",
    "            token_id = self.tokenizer(token).input_ids[-1]\n",
    "            if random.random() < 0.15 and ix > 2:\n",
    "                output.append(self.tokenizer.mask_token_id)\n",
    "                output_labels.append(token_id)\n",
    "            else:\n",
    "                output.append(token_id)\n",
    "                output_labels.append(0)\n",
    "        return output, output_labels\n",
    "        \n",
    "    def __len__(self, ):\n",
    "        return Xtr.shape[0]\n",
    "    \n",
    "\n",
    "class DateDataset(Dataset):\n",
    "    def __init__(self, tokenizer, X, Y) -> None:\n",
    "        super().__init__()\n",
    "        self.tokenizer = tokenizer\n",
    "        self.X = X\n",
    "        self.Y = Y\n",
    "    \n",
    "    def __getitem__(self, index):\n",
    "        x, y = self.X.iloc[index].input_date, self.Y.iloc[index]\n",
    "        y = y.to_numpy().tolist()\n",
    "        y[0] = Config.year2ix.get(y[0])\n",
    "        y[1] = Config.month2ix.get(y[1])\n",
    "        y[2] = Config.day2ix.get(y[2])\n",
    "        x = \"[Y][M][D]\" + x\n",
    "        x_input_ids = self.tokenizer(x).input_ids\n",
    "        x_input_ids += [0 for i in range(Config.MAX_LENGTH - len(x_input_ids))]\n",
    "        return torch.tensor(x_input_ids), torch.tensor(y)\n",
    "\n",
    "    def __len__(self, ):\n",
    "        return self.X.shape[0]"
   ]
  },
  {
   "cell_type": "markdown",
   "metadata": {},
   "source": [
    "### prepare tokenizer, datasets and models"
   ]
  },
  {
   "cell_type": "code",
   "execution_count": 66,
   "metadata": {},
   "outputs": [],
   "source": [
    "def load_checkpoint(model, optimizer, path=\"masked_bert\"):\n",
    "    checkpoint = torch.load(f\"{path}.pt\", weights_only=True)\n",
    "    model.load_state_dict(checkpoint[\"model_state_dict\"])\n",
    "    optimizer.load_state_dict(checkpoint[\"optimizer_state_dict\"])\n",
    "    return optimizer, model, checkpoint[\"lossi\"]\n",
    "\n",
    "def save_model(model, optimizer, lossi, model_name=\"masked_bert\"): \n",
    "    torch.save({\n",
    "        \"model_state_dict\": model.state_dict(),\n",
    "        \"optimizer_state_dict\": optimizer.state_dict(),\n",
    "        \"lossi\": lossi\n",
    "    }, f\"{model_name}.pt\")"
   ]
  },
  {
   "cell_type": "code",
   "execution_count": 67,
   "metadata": {},
   "outputs": [],
   "source": [
    "tokenizer = AutoTokenizer.from_pretrained(Config.TOKENIZER_PATH)\n",
    "tokenizer.add_tokens([\"[M]\", \"[D]\", \"[Y]\", Config.MASK_TOKEN], special_tokens=True)\n",
    "tokenizer.add_tokens(Config.DAYS_TOKEN)\n",
    "tokenizer.mask_token = Config.MASK_TOKEN\n",
    "\n",
    "masked_dataset = MaskedDataset(tokenizer)\n",
    "loader = DataLoader(masked_dataset, batch_size=1024, shuffle=True)\n",
    "\n",
    "train_dataset = DateDataset(tokenizer, Xtr, Ytr)\n",
    "date_loader = DataLoader(train_dataset, batch_size=1024, shuffle=True)\n",
    "\n",
    "bert = BERT(tokenizer)\n",
    "head_bert = DateModel(bert)\n",
    "masked_bert = MaskedBert(tokenizer, bert)\n",
    "\n",
    "mlm_optimizer = torch.optim.AdamW(masked_bert.parameters(), lr=0.1)\n",
    "hlm_optimizer = torch.optim.AdamW(head_bert.parameters(), lr=0.1)\n",
    "\n",
    "mlm_scheduled_lr = lr_scheduler.CyclicLR(mlm_optimizer, base_lr=0.001, max_lr=0.1)\n",
    "hlm_scheduled_lr = lr_scheduler.CyclicLR(hlm_optimizer, base_lr=0.001, max_lr=0.1)\n",
    "\n",
    "masked_lossi = []\n",
    "head_lossi = []\n",
    "\n",
    "hlm_optimizer, head_bert, head_lossi = load_checkpoint(head_bert, hlm_optimizer, \"head_bert\")\n",
    "\n",
    "loss_func = F.cross_entropy\n",
    "lossi = []"
   ]
  },
  {
   "cell_type": "code",
   "execution_count": 7,
   "metadata": {},
   "outputs": [],
   "source": [
    "def mlm_train_epoch(optimizer): # masked language model train epoch\n",
    "    masked_bert.train()\n",
    "    for ix, (x, y) in enumerate(tqdm.tqdm(loader)):\n",
    "        # make all gradient set to zero\n",
    "        optimizer.zero_grad()\n",
    "        # forward-pass\n",
    "        masked_output = masked_bert(x)\n",
    "        loss = F.cross_entropy(masked_output.transpose(1,2), y, ignore_index=0)\n",
    "        # backward\n",
    "        loss.backward()\n",
    "        masked_lossi.append(loss.item())\n",
    "        if (ix + 1) % 500 == 0:\n",
    "            mlm_scheduled_lr.step()\n",
    "        # update the weights\n",
    "        optimizer.step()\n",
    "    masked_bert.eval()\n",
    "\n",
    "def hlm_train_epochs(loader, optimizer, loss_func): # head language model train epoch\n",
    "    for ix, (x, y) in enumerate(tqdm.tqdm(loader,)):\n",
    "        optimizer.zero_grad()\n",
    "        # forward-pass\n",
    "        Ypr, Mpr, Dpr = head_bert(x)\n",
    "        loss = loss_func(Ypr, y[:, 0]) + loss_func(Mpr, y[:, 1]) + loss_func(Dpr, y[:, 2])\n",
    "        # calculate the gradient of loss woth respect to each parameter\n",
    "        loss.backward()\n",
    "        head_lossi.append(loss.item())\n",
    "        if (ix + 1) % 500 == 0:\n",
    "            hlm_scheduled_lr.step()\n",
    "        # update the parameters\n",
    "        optimizer.step()\n",
    "    return lossi"
   ]
  },
  {
   "cell_type": "code",
   "execution_count": 8,
   "metadata": {},
   "outputs": [],
   "source": [
    "def mlm_train(n_epochs, ):\n",
    "    global masked_bert, mlm_optimizer\n",
    "    masked_bert.train()\n",
    "    # mlm_optimizer, masked_bert, _ = load_checkpoint(masked_bert, mlm_optimizer, )\n",
    "    for _ in range(n_epochs):\n",
    "        mlm_train_epoch(mlm_optimizer)\n",
    "    masked_bert.eval()\n",
    "    save_model(masked_bert, mlm_optimizer, lossi)\n",
    "\n",
    "def hlm_train(n_epochs):\n",
    "    global head_bert, hlm_optimizer\n",
    "    head_bert.train()\n",
    "    # hlm_optimizer, head_bert = load_checkpoint(head_bert, hlm_optimizer, \"head_bert\")\n",
    "    for _ in range(n_epochs):\n",
    "        hlm_train_epochs(date_loader, hlm_optimizer, loss_func)\n",
    "    head_bert.eval()\n",
    "    save_model(head_bert, hlm_optimizer, \"head_bert\")"
   ]
  },
  {
   "cell_type": "code",
   "execution_count": 38,
   "metadata": {},
   "outputs": [
    {
     "name": "stderr",
     "output_type": "stream",
     "text": [
      "100%|██████████████████████████████████████████████████████████████████████████████████| 80/80 [04:19<00:00,  3.25s/it]\n",
      "100%|██████████████████████████████████████████████████████████████████████████████████| 80/80 [04:20<00:00,  3.25s/it]\n",
      "100%|██████████████████████████████████████████████████████████████████████████████████| 80/80 [04:21<00:00,  3.27s/it]\n",
      "100%|██████████████████████████████████████████████████████████████████████████████████| 80/80 [04:19<00:00,  3.25s/it]\n",
      "100%|██████████████████████████████████████████████████████████████████████████████████| 80/80 [04:21<00:00,  3.26s/it]\n"
     ]
    }
   ],
   "source": [
    "hlm_train(5)"
   ]
  },
  {
   "cell_type": "code",
   "execution_count": 41,
   "metadata": {},
   "outputs": [
    {
     "name": "stderr",
     "output_type": "stream",
     "text": [
      "100%|██████████████████████████████████████████████████████████████████████████████████| 80/80 [04:21<00:00,  3.26s/it]\n"
     ]
    }
   ],
   "source": [
    "hlm_train(1)"
   ]
  },
  {
   "cell_type": "code",
   "execution_count": 24,
   "metadata": {},
   "outputs": [
    {
     "data": {
      "image/png": "[encoded data removed]",
      "text/plain": [
       "<Figure size 640x480 with 1 Axes>"
      ]
     },
     "metadata": {},
     "output_type": "display_data"
    }
   ],
   "source": [
    "plt.plot(head_lossi);"
   ]
  },
  {
   "cell_type": "code",
   "execution_count": 10,
   "metadata": {},
   "outputs": [
    {
     "name": "stdout",
     "output_type": "stream",
     "text": [
      "number of parameters: 4344630\n"
     ]
    }
   ],
   "source": [
    "print(f\"number of parameters: {sum([p.numel() for p in head_bert.parameters()])}\")"
   ]
  },
  {
   "cell_type": "code",
   "execution_count": 11,
   "metadata": {},
   "outputs": [],
   "source": [
    "count = 0\n",
    "\n",
    "@torch.no_grad\n",
    "def inference(x,):\n",
    "    Ypr, Mpr, Dpr = head_bert(x.view(1, -1))\n",
    "    year = torch.argmax(Ypr, dim=-1)\n",
    "    month = torch.argmax(Mpr, dim=-1)\n",
    "    day = torch.argmax(Dpr, dim=-1)\n",
    "    return torch.cat((year, month, day), dim=0), f\"{Config.ix2year.get(year.item())}-{Config.ix2month.get(month.item())}-{Config.ix2day.get(day.item())}\""
   ]
  },
  {
   "cell_type": "code",
   "execution_count": 13,
   "metadata": {},
   "outputs": [
    {
     "data": {
      "text/plain": [
       "0.7646627565982405"
      ]
     },
     "execution_count": 13,
     "metadata": {},
     "output_type": "execute_result"
    }
   ],
   "source": [
    "test_dataset = DateDataset(tokenizer, Xts, Yts)\n",
    "count = 0\n",
    "for x, y in DataLoader(test_dataset, 1):\n",
    "    if torch.all(inference(x)[0] == y):\n",
    "        count += 1\n",
    "count / len(test_dataset)"
   ]
  },
  {
   "cell_type": "code",
   "execution_count": 68,
   "metadata": {},
   "outputs": [
    {
     "data": {
      "text/plain": [
       "'1400-1-1'"
      ]
     },
     "execution_count": 68,
     "metadata": {},
     "output_type": "execute_result"
    }
   ],
   "source": [
    "head_bert.generate(\"1 فروردین سال هزار و چهارصد\")"
   ]
  }
 ],
 "metadata": {
  "kernelspec": {
   "display_name": "Python 3 (ipykernel)",
   "language": "python",
   "name": "python3"
  },
  "language_info": {
   "codemirror_mode": {
    "name": "ipython",
    "version": 3
   },
   "file_extension": ".py",
   "mimetype": "text/x-python",
   "name": "python",
   "nbconvert_exporter": "python",
   "pygments_lexer": "ipython3",
   "version": "3.12.7"
  }
 },
 "nbformat": 4,
 "nbformat_minor": 4
}
