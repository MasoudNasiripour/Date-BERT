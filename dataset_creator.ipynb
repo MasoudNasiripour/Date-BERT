{
 "cells": [
  {
   "cell_type": "code",
   "execution_count": 1,
   "metadata": {},
   "outputs": [],
   "source": [
    "import pandas as pd\n",
    "import numpy as np\n",
    "\n",
    "from itertools import permutations"
   ]
  },
  {
   "cell_type": "code",
   "execution_count": 2,
   "metadata": {},
   "outputs": [],
   "source": [
    "f_months = [\"فروردین\",\"اردیبهشت\",\"خرداد\", \"تیر\", \"مرداد\",\"شهریور\",\"مهر\",\"آبان\",\"آذر\",\"دی\",\"بهمن\",\"اسفند\"]\n",
    "e_months = [\n",
    "    \"Farvardin\", \"Ordibehesht\", \"Khordad\",\"Tir\", \"Mordad\", \"Shahrivar\",\n",
    "      \"Mehr\", \"Aban\", \"Azar\", \"Dey\",\"Bahman\",\"Esfand\"\n",
    "]\n",
    "\n",
    "f_days =[\n",
    "    \"اول\", \"دوم\",\"سوم\", \"چهارم\", \"پنجم\",\"ششم\",\"هفتم\",\"هشتم\",\"نهم\",\"دهم\",\n",
    "    \"یازدهم\",\"دوازدهم\",\"سیزدهم\",\"چهاردهم\",\"پانزدهم\",\"شانزدهم\",\"هفدهم\",\"هجدهم\",\n",
    "    \"نوزدهم\",\"بیستم\",\"بیست و یکم\",\"بیست و دوم\",\"بیست و سوم\",\"بیست و چهارم\",\"بیست و پنجم\",\n",
    "    \"بیست و ششم\",\"بیست و هفتم\",\"بیست و هشتم\",\"بیست و نهم\",\"سی ام\"\n",
    "]\n",
    "\n",
    "f_years = [\n",
    "    \"هزار و چهارصد\",\"هزار و چهارصد و یک\",\"هزار و چهارصد و دو\",\"هزار و چهارصد و سه\",\n",
    "    \"هزار و چهارصد و چهار\",\"هزار و چهارصد و پنج\", \"هزار و چهارصد و شش\", \"هزار و چهارصد و هفت\",\n",
    "    \"هزار و چهارصد و هشت\",\"هزار و چهارصد و نه\",\"هزار و چهارصد و ده\"\n",
    "]\n",
    "\n",
    "f_years_with_yearname = [\"سال \" + y for y in f_years]\n",
    "\n",
    "days = [i for i in range(1, 32)]\n",
    "years = [i for i in range(1400, 1411)]\n",
    "em2int = {item: ix+1 for ix, item in enumerate(e_months)}\n",
    "\n",
    "em2fm = {em: fm for fm, em in zip(f_months, e_months)}\n",
    "ed2fd = {str(ed): fd for ed, fd in zip(days, f_days)}\n",
    "\n",
    "ey2fy = {ey:fy for ey, fy in zip(years, f_years_with_yearname)}\n",
    "fy2ey = {fy:ey for ey, fy in zip(years, f_years_with_yearname)}"
   ]
  },
  {
   "cell_type": "markdown",
   "metadata": {},
   "source": [
    "### Create image-text match dataset"
   ]
  },
  {
   "cell_type": "code",
   "execution_count": 4,
   "metadata": {},
   "outputs": [],
   "source": [
    "Xtr, Ytr = [], []\n",
    "Xts, Yts= [], []\n",
    "\n",
    "n_test_per_perms = 1\n",
    "\n",
    "def get_permutes(input_list):\n",
    "    perms = set(permutations(input_list))\n",
    "    return [\" \".join([str(p) for p in perm]) for perm in perms]\n",
    "\n",
    "for d in days:\n",
    "    for m in e_months:\n",
    "        for y in years:\n",
    "            temp = [d, em2fm.get(m), y] # month in persian\n",
    "            perms = get_permutes(temp) # 3!=6 differente permutation\n",
    "            Xtr += perms[:-n_test_per_perms]\n",
    "            Xts += perms[-n_test_per_perms:]\n",
    "            temp[0] = ed2fd.get(str(d)) # month and day in persian\n",
    "            perms = get_permutes(temp) # 3!=6 differente permutation\n",
    "            Xtr += perms[:-n_test_per_perms]\n",
    "            Xts += perms[-n_test_per_perms:]\n",
    "            temp[2] = ey2fy.get(y) # month and day and year in persian\n",
    "            perms = get_permutes(temp) # 3!=6 differente permutation\n",
    "            Xtr += perms[:-n_test_per_perms]\n",
    "            Xts += perms[-n_test_per_perms:]\n",
    "            temp[0] = d\n",
    "            temp[1] = em2fm.get(m)\n",
    "            temp[2] = ey2fy.get(y)  # month and year in persian\n",
    "            perms = get_permutes(temp) # 3!=6 differente permutation\n",
    "            Xtr += perms[:-n_test_per_perms]\n",
    "            Xts += perms[-n_test_per_perms:]\n",
    "            Ytr += [(y, em2int.get(m), d) for _ in range((6-n_test_per_perms)*4)]\n",
    "            Yts += [(y, em2int.get(m), d) for _ in range(n_test_per_perms *4)]"
   ]
  },
  {
   "cell_type": "code",
   "execution_count": 6,
   "metadata": {},
   "outputs": [
    {
     "data": {
      "text/plain": [
       "(16368, 81840)"
      ]
     },
     "execution_count": 6,
     "metadata": {},
     "output_type": "execute_result"
    }
   ],
   "source": [
    "len(Xts), len(Xtr)"
   ]
  },
  {
   "cell_type": "markdown",
   "metadata": {},
   "source": [
    "ما 11 سال 12 ماه و 31 روز را در نظر گرفتیم\n",
    "بنابراین حالات متفاوتی که میتونن داشته باشن در کنار همدیگه بدون تغییر جایگشت بصورت زیره\n",
    "\n",
    "11 * 12 * 31 = 4092\n",
    "\n",
    "و از اونجا که هر کدوم از این حالات میتونه 3 فاکتوریل جایگشت متفاوت داشته باشه داریم\n",
    "\n",
    "4092 * 3! = 4092 * 6 = 24552\n",
    "\n",
    "این تنها برای حالتیه که از کل تاریخ غیررسمی فقط ماهش فارسی باشه. حالا اگه روزشم فارسی باشه \n",
    "باز همینقد حالت به وجود میاد پس در کل به تعداد زیر تاریخ غیررسمی داریم\n",
    "\n",
    "24552 * 2 = 49104"
   ]
  },
  {
   "cell_type": "code",
   "execution_count": 50,
   "metadata": {},
   "outputs": [],
   "source": [
    "pd.DataFrame(Xtr, columns=[\"input_date\",]).to_excel(\"Xtr.xlsx\")\n",
    "pd.DataFrame(Ytr, columns=[\"year\",\"month\",\"day\"]).to_excel(\"Ytr.xlsx\")"
   ]
  },
  {
   "cell_type": "markdown",
   "metadata": {},
   "source": [
    "### Create image-text not match dataset"
   ]
  },
  {
   "cell_type": "code",
   "execution_count": 51,
   "metadata": {},
   "outputs": [],
   "source": [
    "pd.DataFrame(Xts, columns=[\"input_date\",]).to_excel(\"Xts.xlsx\")\n",
    "pd.DataFrame(Yts, columns=[\"year\",\"month\",\"day\"]).to_excel(\"Yts.xlsx\")"
   ]
  }
 ],
 "metadata": {
  "kernelspec": {
   "display_name": "Python 3 (ipykernel)",
   "language": "python",
   "name": "python3"
  },
  "language_info": {
   "codemirror_mode": {
    "name": "ipython",
    "version": 3
   },
   "file_extension": ".py",
   "mimetype": "text/x-python",
   "name": "python",
   "nbconvert_exporter": "python",
   "pygments_lexer": "ipython3",
   "version": "3.12.7"
  }
 },
 "nbformat": 4,
 "nbformat_minor": 4
}
